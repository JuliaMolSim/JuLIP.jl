{
 "cells": [
  {
   "cell_type": "markdown",
   "metadata": {},
   "source": [
    "# Interstitial Formation Energy of silicon"
   ]
  },
  {
   "cell_type": "markdown",
   "metadata": {},
   "source": [
    "<b>Task</b>: to find the interstitial formation energy in bulk silicon.\n",
    "\n",
    "Self-interstitial atoms are atoms of the same matrix material occupying positions which do not coincide with lattice points.[1] The silicon self-interstitial possesses a <110\\> or <100\\> dumbbell configuration [2], i.e. 2 atoms  share the same lattice site, and they are displaced symmetrically from it along either $[1, 1, 0]$ or $[1, 0, 0]$\n",
    "\n",
    "The interstitial formation energy can be found by the equation: <center>$E_i^f = E_f - N_i \\cdot E_{ref}$ </center> where $E_f$, $N_i$ and $E_{ref}$ are the final energy of the relaxed system with interstitial, the number of atoms in the system with interstitial and energy per unit volume of the material respectively.\n",
    "\n",
    "The energy of the cluster is calculated using the Stillger-Weber potential, which is implemented in `JuLIP` as StillingerWeber().\n",
    "\n",
    "A table showing how the interstitial formation energies change with cluster size is generated at the end.\n",
    "\n",
    "<b>References</b>:\n",
    "\n",
    "[1]https://icme.hpc.msstate.edu/mediawiki/index.php/LAMMPS_Interstitial_Formation_Energy\n",
    "\n",
    "[2]Frank, W., Seeger, A., & Gösele, U. (1980). From the Mystery to the Understanding of the Self-Interstitials in Silicon. MRS Proceedings, 2, 31. doi:10.1557/PROC-2-31"
   ]
  },
  {
   "cell_type": "code",
   "execution_count": 1,
   "metadata": {},
   "outputs": [],
   "source": [
    "using JuLIP, Optim, DataFrames"
   ]
  },
  {
   "cell_type": "code",
   "execution_count": 2,
   "metadata": {},
   "outputs": [
    {
     "data": {
      "text/plain": [
       "-4.33499825548334"
      ]
     },
     "execution_count": 2,
     "metadata": {},
     "output_type": "execute_result"
    }
   ],
   "source": [
    "# reference energy\n",
    "# energy per unit volume of a homogeneous silicon crystal\n",
    "at = bulk(:Si)\n",
    "set_calculator!(at, StillingerWeber())\n",
    "Eref = energy(at) / length(at)"
   ]
  },
  {
   "cell_type": "code",
   "execution_count": 3,
   "metadata": {},
   "outputs": [
    {
     "data": {
      "text/plain": [
       "IFE (generic function with 1 method)"
      ]
     },
     "execution_count": 3,
     "metadata": {},
     "output_type": "execute_result"
    }
   ],
   "source": [
    "function IFE(size, config)\n",
    "    # atuster with interstitial\n",
    "    at = bulk(:Si, cubic = true) * size\n",
    "    set_calculator!(at, StillingerWeber())\n",
    "\n",
    "    disp = 0.5 * rnn(:Si)\n",
    "    i = length(at) ÷ 2\n",
    "    site = at.X[i]\n",
    "    deleteat!(at, i)\n",
    "    insert!(at.X, i, site + config * disp)\n",
    "    insert!(at.X, i, site - config * disp)\n",
    "\n",
    "    # energy before relaxing\n",
    "    E0 = energy(at) - length(at) * Eref\n",
    "    println(length(at))\n",
    "\n",
    "    # geometry optimization\n",
    "    set_constraint!(at, FixedCell(at))\n",
    "    result = minimise!(at)\n",
    "    E1 = result.minimum - length(at) * Eref\n",
    "\n",
    "    return E0, E1\n",
    "end"
   ]
  },
  {
   "cell_type": "code",
   "execution_count": null,
   "metadata": {},
   "outputs": [],
   "source": [
    "# # defect formation energy\n",
    "size_range = 3:10\n",
    "IFE_110_0, IFE_110_1 = [ IFE(n, [1, 1, 0])[1] for n in size_range ], [ IFE(n, [1, 1, 0])[2] for n in size_range ]\n",
    "IFE_100_0, IFE_100_1 = [ IFE(n, [1, 0, 0])[1] for n in size_range ], [ IFE(n, [1, 0, 0])[2] for n in size_range ]"
   ]
  },
  {
   "cell_type": "code",
   "execution_count": 5,
   "metadata": {},
   "outputs": [
    {
     "data": {
      "text/html": [
       "<table class=\"data-frame\"><thead><tr><th></th><th>Size</th><th>Unrelaxed_IFE_110</th><th>Relaxed_IFE_110</th><th>Unrelaxed_IFE_100</th><th>Relaxed_IFE_100</th></tr></thead><tbody><tr><th>1</th><td>3</td><td>44.0452</td><td>4.47726</td><td>13.2659</td><td>5.31058</td></tr><tr><th>2</th><td>4</td><td>44.0452</td><td>4.44509</td><td>13.2659</td><td>5.28864</td></tr><tr><th>3</th><td>5</td><td>44.0452</td><td>4.43438</td><td>13.2659</td><td>5.2814</td></tr><tr><th>4</th><td>6</td><td>44.0452</td><td>4.42979</td><td>13.2659</td><td>5.27829</td></tr><tr><th>5</th><td>7</td><td>44.0452</td><td>4.42748</td><td>13.2659</td><td>5.27672</td></tr><tr><th>6</th><td>8</td><td>44.0452</td><td>4.42619</td><td>13.2659</td><td>5.27584</td></tr><tr><th>7</th><td>9</td><td>44.0452</td><td>4.42542</td><td>13.2659</td><td>5.27531</td></tr><tr><th>8</th><td>10</td><td>44.0452</td><td>4.42492</td><td>13.2659</td><td>5.27497</td></tr></tbody></table>"
      ],
      "text/plain": [
       "8×5 DataFrames.DataFrame. Omitted printing of 1 columns\n",
       "│ Row │ Size │ Unrelaxed_IFE_110 │ Relaxed_IFE_110 │ Unrelaxed_IFE_100 │\n",
       "├─────┼──────┼───────────────────┼─────────────────┼───────────────────┤\n",
       "│ 1   │ 3    │ 44.0452           │ 4.47726         │ 13.2659           │\n",
       "│ 2   │ 4    │ 44.0452           │ 4.44509         │ 13.2659           │\n",
       "│ 3   │ 5    │ 44.0452           │ 4.43438         │ 13.2659           │\n",
       "│ 4   │ 6    │ 44.0452           │ 4.42979         │ 13.2659           │\n",
       "│ 5   │ 7    │ 44.0452           │ 4.42748         │ 13.2659           │\n",
       "│ 6   │ 8    │ 44.0452           │ 4.42619         │ 13.2659           │\n",
       "│ 7   │ 9    │ 44.0452           │ 4.42542         │ 13.2659           │\n",
       "│ 8   │ 10   │ 44.0452           │ 4.42492         │ 13.2659           │"
      ]
     },
     "metadata": {},
     "output_type": "display_data"
    }
   ],
   "source": [
    "df = DataFrame(Size = size_range, Unrelaxed_IFE_110 = IFE_110_0, Relaxed_IFE_110 = IFE_110_1, \n",
    "        Unrelaxed_IFE_100 = IFE_100_0, Relaxed_IFE_100 = IFE_100_1)\n",
    "display(df)\n"
   ]
  }
 ],
 "metadata": {
  "kernelspec": {
   "display_name": "Julia 0.6.4",
   "language": "julia",
   "name": "julia-0.6"
  },
  "language_info": {
   "file_extension": ".jl",
   "mimetype": "application/julia",
   "name": "julia",
   "version": "0.6.4"
  }
 },
 "nbformat": 4,
 "nbformat_minor": 2
}
