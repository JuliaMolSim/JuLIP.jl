{
 "cells": [
  {
   "cell_type": "markdown",
   "metadata": {},
   "source": [
    "# Vacancy Formation Energy of Copper"
   ]
  },
  {
   "cell_type": "markdown",
   "metadata": {},
   "source": [
    "<b>Task</b>: to find the vacancy formation energy in bulk copper\n",
    "\n",
    "The vacancy formation energy is the energy required to break the bonds between an atom inside the crystal and its nearest neighbor atoms and removing that atom to where it has no interaction with the remaining system. [1]\n",
    "\n",
    "The vacancy formation energy can be found by the equation: <center>$E_v^f = E_f - N_v \\cdot E_{ref}$ </center> where $E_f$, $N_v$ and $E_{ref}$ are the energy of the relaxed system with vacancy, the number of atoms in the system with vacancy and energy per unit volume of the material respectively.\n",
    "\n",
    "The energy of the cluster is calculated using Morse Potential with parameters from [2]. The Morse potential between atoms $i$ and $j$ is <center> $V_{ij} = D\\big( e^ { -2 \\alpha (r_{ij} - r_e) } - 2e^{ - \\alpha (r_{ij} - r_e)  } \\big) $ </center> where $D$, $\\alpha$, $r_{ij}$ and $r_e$ are the well depth, the width of the potential, the equilibrium atomic distance.\n",
    "\n",
    "A table showing how the vacancy formation energy changes with cluster size is generated at the end.\n",
    "\n",
    "<b>References</b>: \n",
    "\n",
    "[1]https://icme.hpc.msstate.edu/mediawiki/index.php/LAMMPS_Vacancy_Formation_Energy\n",
    "\n",
    "[2]Oluwajobi, A. & Chen, X. Int. J. Autom. Comput. (2011) 8: 326. https://doi.org/10.1007/s11633-011-0588-y"
   ]
  },
  {
   "cell_type": "code",
   "execution_count": 1,
   "metadata": {},
   "outputs": [],
   "source": [
    "using JuLIP, Optim, DataFrames"
   ]
  },
  {
   "cell_type": "code",
   "execution_count": 2,
   "metadata": {
    "scrolled": true
   },
   "outputs": [
    {
     "data": {
      "text/plain": [
       "JuLIP.Potentials.AnalyticFunction{##1#4,##2#5,##3#6}(#1, #2, #3) * JuLIP.Potentials.SplineCutoff(0.01, 6.4)"
      ]
     },
     "execution_count": 2,
     "metadata": {},
     "output_type": "execute_result"
    }
   ],
   "source": [
    "# Morse potential\n",
    "D = 0.3429 # well depth\n",
    "alpha = 1.3588 # width of potential (Argstrom)\n",
    "r_e = 2.866 # atomic distance at equilibrium\n",
    "cut_off = 6.4 # cut_off radius\n",
    "mp = (@analytic r -> D * ( exp(-2*alpha*(r-r_e)) - 2*exp(-alpha*(r-r_e)) )) * SplineCutoff(0.01, cut_off)"
   ]
  },
  {
   "cell_type": "code",
   "execution_count": 3,
   "metadata": {},
   "outputs": [
    {
     "data": {
      "text/plain": [
       "-1.426054040194669"
      ]
     },
     "execution_count": 3,
     "metadata": {},
     "output_type": "execute_result"
    }
   ],
   "source": [
    "# reference energy\n",
    "# energy per unit volume of a homogeneous copper crystal\n",
    "at = bulk(:Cu)\n",
    "set_calculator!(at, mp)\n",
    "Eref = energy(at)"
   ]
  },
  {
   "cell_type": "code",
   "execution_count": 4,
   "metadata": {},
   "outputs": [
    {
     "data": {
      "text/plain": [
       "VFE (generic function with 1 method)"
      ]
     },
     "execution_count": 4,
     "metadata": {},
     "output_type": "execute_result"
    }
   ],
   "source": [
    "function VFE(size)\n",
    "    # cluster with vacancy\n",
    "    at = bulk(:Cu, cubic = true) * size\n",
    "    set_calculator!(at, mp)\n",
    "    deleteat!(at, length(at) ÷ 2)\n",
    "    # energy before relaxing\n",
    "    E0 = energy(at) - length(at)*Eref\n",
    "\n",
    "    # geometry optimization\n",
    "    set_constraint!(at, FixedCell(at))\n",
    "    result = minimise!(at)\n",
    "    E1 = result.minimum - length(at)*Eref\n",
    "    \n",
    "    return E0, E1\n",
    "end"
   ]
  },
  {
   "cell_type": "code",
   "execution_count": null,
   "metadata": {
    "scrolled": false
   },
   "outputs": [],
   "source": [
    "size_range = 3:10\n",
    "VFE_0, VFE_1 = [ VFE(n)[1] for n in size_range ], [ VFE(n)[2] for n in size_range ]  "
   ]
  },
  {
   "cell_type": "code",
   "execution_count": 6,
   "metadata": {},
   "outputs": [
    {
     "data": {
      "text/html": [
       "<table class=\"data-frame\"><thead><tr><th></th><th>Size</th><th>Unrelaxd_VFE</th><th>Relaxed_VFE</th></tr></thead><tbody><tr><th>1</th><td>3</td><td>1.42605</td><td>1.28393</td></tr><tr><th>2</th><td>4</td><td>1.42605</td><td>1.27998</td></tr><tr><th>3</th><td>5</td><td>1.42605</td><td>1.27881</td></tr><tr><th>4</th><td>6</td><td>1.42605</td><td>1.27835</td></tr><tr><th>5</th><td>7</td><td>1.42605</td><td>1.27813</td></tr><tr><th>6</th><td>8</td><td>1.42605</td><td>1.27801</td></tr><tr><th>7</th><td>9</td><td>1.42605</td><td>1.27794</td></tr><tr><th>8</th><td>10</td><td>1.42605</td><td>1.2779</td></tr></tbody></table>"
      ],
      "text/plain": [
       "8×3 DataFrames.DataFrame\n",
       "│ Row │ Size │ Unrelaxd_VFE │ Relaxed_VFE │\n",
       "├─────┼──────┼──────────────┼─────────────┤\n",
       "│ 1   │ 3    │ 1.42605      │ 1.28393     │\n",
       "│ 2   │ 4    │ 1.42605      │ 1.27998     │\n",
       "│ 3   │ 5    │ 1.42605      │ 1.27881     │\n",
       "│ 4   │ 6    │ 1.42605      │ 1.27835     │\n",
       "│ 5   │ 7    │ 1.42605      │ 1.27813     │\n",
       "│ 6   │ 8    │ 1.42605      │ 1.27801     │\n",
       "│ 7   │ 9    │ 1.42605      │ 1.27794     │\n",
       "│ 8   │ 10   │ 1.42605      │ 1.2779      │"
      ]
     },
     "execution_count": 6,
     "metadata": {},
     "output_type": "execute_result"
    }
   ],
   "source": [
    "df = DataFrame(Size = size_range, Unrelaxd_VFE = VFE_0, Relaxed_VFE = VFE_1)"
   ]
  }
 ],
 "metadata": {
  "kernelspec": {
   "display_name": "Julia 0.6.4",
   "language": "julia",
   "name": "julia-0.6"
  },
  "language_info": {
   "file_extension": ".jl",
   "mimetype": "application/julia",
   "name": "julia",
   "version": "0.6.4"
  }
 },
 "nbformat": 4,
 "nbformat_minor": 2
}
